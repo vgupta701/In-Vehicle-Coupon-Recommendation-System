{
 "cells": [
  {
   "cell_type": "markdown",
   "metadata": {
    "slideshow": {
     "slide_type": "slide"
    }
   },
   "source": [
    "# in-vehicle coupon recommendation"
   ]
  },
  {
   "cell_type": "markdown",
   "metadata": {},
   "source": [
    "We will look at the Naive Bayes classifier."
   ]
  },
  {
   "cell_type": "code",
   "execution_count": 4,
   "metadata": {
    "slideshow": {
     "slide_type": "slide"
    }
   },
   "outputs": [
    {
     "name": "stdout",
     "output_type": "stream",
     "text": [
      "%pylab is deprecated, use %matplotlib inline and import the required libraries.\n",
      "Populating the interactive namespace from numpy and matplotlib\n"
     ]
    }
   ],
   "source": [
    "from pandas import Series, DataFrame\n",
    "import pandas as pd\n",
    "from patsy import dmatrices\n",
    "%pylab inline\n",
    "%matplotlib inline"
   ]
  },
  {
   "cell_type": "code",
   "execution_count": 5,
   "metadata": {},
   "outputs": [],
   "source": [
    "# We will ignore some silly warnings that pop up due to scikit-learn\n",
    "import warnings\n",
    "warnings.filterwarnings('ignore')"
   ]
  },
  {
   "cell_type": "code",
   "execution_count": 7,
   "metadata": {
    "slideshow": {
     "slide_type": "fragment"
    }
   },
   "outputs": [
    {
     "data": {
      "text/html": [
       "<div>\n",
       "<style scoped>\n",
       "    .dataframe tbody tr th:only-of-type {\n",
       "        vertical-align: middle;\n",
       "    }\n",
       "\n",
       "    .dataframe tbody tr th {\n",
       "        vertical-align: top;\n",
       "    }\n",
       "\n",
       "    .dataframe thead th {\n",
       "        text-align: right;\n",
       "    }\n",
       "</style>\n",
       "<table border=\"1\" class=\"dataframe\">\n",
       "  <thead>\n",
       "    <tr style=\"text-align: right;\">\n",
       "      <th></th>\n",
       "      <th>destination</th>\n",
       "      <th>passanger</th>\n",
       "      <th>weather</th>\n",
       "      <th>temperature</th>\n",
       "      <th>time</th>\n",
       "      <th>coupon</th>\n",
       "      <th>expiration</th>\n",
       "      <th>gender</th>\n",
       "      <th>age</th>\n",
       "      <th>maritalStatus</th>\n",
       "      <th>...</th>\n",
       "      <th>CoffeeHouse</th>\n",
       "      <th>CarryAway</th>\n",
       "      <th>RestaurantLessThan20</th>\n",
       "      <th>Restaurant20To50</th>\n",
       "      <th>toCoupon_GEQ5min</th>\n",
       "      <th>toCoupon_GEQ15min</th>\n",
       "      <th>toCoupon_GEQ25min</th>\n",
       "      <th>direction_same</th>\n",
       "      <th>direction_opp</th>\n",
       "      <th>Y</th>\n",
       "    </tr>\n",
       "  </thead>\n",
       "  <tbody>\n",
       "    <tr>\n",
       "      <th>0</th>\n",
       "      <td>No Urgent Place</td>\n",
       "      <td>Alone</td>\n",
       "      <td>Sunny</td>\n",
       "      <td>55</td>\n",
       "      <td>2PM</td>\n",
       "      <td>Restaurant(&lt;20)</td>\n",
       "      <td>1d</td>\n",
       "      <td>Male</td>\n",
       "      <td>21</td>\n",
       "      <td>Single</td>\n",
       "      <td>...</td>\n",
       "      <td>less1</td>\n",
       "      <td>4~8</td>\n",
       "      <td>4~8</td>\n",
       "      <td>less1</td>\n",
       "      <td>1</td>\n",
       "      <td>0</td>\n",
       "      <td>0</td>\n",
       "      <td>0</td>\n",
       "      <td>1</td>\n",
       "      <td>1</td>\n",
       "    </tr>\n",
       "    <tr>\n",
       "      <th>1</th>\n",
       "      <td>No Urgent Place</td>\n",
       "      <td>Friend(s)</td>\n",
       "      <td>Sunny</td>\n",
       "      <td>80</td>\n",
       "      <td>10AM</td>\n",
       "      <td>Coffee House</td>\n",
       "      <td>2h</td>\n",
       "      <td>Male</td>\n",
       "      <td>21</td>\n",
       "      <td>Single</td>\n",
       "      <td>...</td>\n",
       "      <td>less1</td>\n",
       "      <td>4~8</td>\n",
       "      <td>4~8</td>\n",
       "      <td>less1</td>\n",
       "      <td>1</td>\n",
       "      <td>0</td>\n",
       "      <td>0</td>\n",
       "      <td>0</td>\n",
       "      <td>1</td>\n",
       "      <td>0</td>\n",
       "    </tr>\n",
       "    <tr>\n",
       "      <th>2</th>\n",
       "      <td>No Urgent Place</td>\n",
       "      <td>Friend(s)</td>\n",
       "      <td>Sunny</td>\n",
       "      <td>80</td>\n",
       "      <td>10AM</td>\n",
       "      <td>Bar</td>\n",
       "      <td>1d</td>\n",
       "      <td>Male</td>\n",
       "      <td>21</td>\n",
       "      <td>Single</td>\n",
       "      <td>...</td>\n",
       "      <td>less1</td>\n",
       "      <td>4~8</td>\n",
       "      <td>4~8</td>\n",
       "      <td>less1</td>\n",
       "      <td>1</td>\n",
       "      <td>0</td>\n",
       "      <td>0</td>\n",
       "      <td>0</td>\n",
       "      <td>1</td>\n",
       "      <td>1</td>\n",
       "    </tr>\n",
       "    <tr>\n",
       "      <th>3</th>\n",
       "      <td>No Urgent Place</td>\n",
       "      <td>Friend(s)</td>\n",
       "      <td>Sunny</td>\n",
       "      <td>80</td>\n",
       "      <td>10AM</td>\n",
       "      <td>Carry out &amp; Take away</td>\n",
       "      <td>2h</td>\n",
       "      <td>Male</td>\n",
       "      <td>21</td>\n",
       "      <td>Single</td>\n",
       "      <td>...</td>\n",
       "      <td>less1</td>\n",
       "      <td>4~8</td>\n",
       "      <td>4~8</td>\n",
       "      <td>less1</td>\n",
       "      <td>1</td>\n",
       "      <td>1</td>\n",
       "      <td>0</td>\n",
       "      <td>0</td>\n",
       "      <td>1</td>\n",
       "      <td>0</td>\n",
       "    </tr>\n",
       "    <tr>\n",
       "      <th>4</th>\n",
       "      <td>No Urgent Place</td>\n",
       "      <td>Friend(s)</td>\n",
       "      <td>Sunny</td>\n",
       "      <td>80</td>\n",
       "      <td>2PM</td>\n",
       "      <td>Coffee House</td>\n",
       "      <td>1d</td>\n",
       "      <td>Male</td>\n",
       "      <td>21</td>\n",
       "      <td>Single</td>\n",
       "      <td>...</td>\n",
       "      <td>less1</td>\n",
       "      <td>4~8</td>\n",
       "      <td>4~8</td>\n",
       "      <td>less1</td>\n",
       "      <td>1</td>\n",
       "      <td>0</td>\n",
       "      <td>0</td>\n",
       "      <td>0</td>\n",
       "      <td>1</td>\n",
       "      <td>0</td>\n",
       "    </tr>\n",
       "  </tbody>\n",
       "</table>\n",
       "<p>5 rows × 25 columns</p>\n",
       "</div>"
      ],
      "text/plain": [
       "       destination  passanger weather  temperature  time  \\\n",
       "0  No Urgent Place      Alone   Sunny           55   2PM   \n",
       "1  No Urgent Place  Friend(s)   Sunny           80  10AM   \n",
       "2  No Urgent Place  Friend(s)   Sunny           80  10AM   \n",
       "3  No Urgent Place  Friend(s)   Sunny           80  10AM   \n",
       "4  No Urgent Place  Friend(s)   Sunny           80   2PM   \n",
       "\n",
       "                  coupon expiration gender age maritalStatus  ...  \\\n",
       "0        Restaurant(<20)         1d   Male  21        Single  ...   \n",
       "1           Coffee House         2h   Male  21        Single  ...   \n",
       "2                    Bar         1d   Male  21        Single  ...   \n",
       "3  Carry out & Take away         2h   Male  21        Single  ...   \n",
       "4           Coffee House         1d   Male  21        Single  ...   \n",
       "\n",
       "   CoffeeHouse CarryAway RestaurantLessThan20 Restaurant20To50  \\\n",
       "0        less1       4~8                  4~8            less1   \n",
       "1        less1       4~8                  4~8            less1   \n",
       "2        less1       4~8                  4~8            less1   \n",
       "3        less1       4~8                  4~8            less1   \n",
       "4        less1       4~8                  4~8            less1   \n",
       "\n",
       "  toCoupon_GEQ5min toCoupon_GEQ15min toCoupon_GEQ25min direction_same  \\\n",
       "0                1                 0                 0              0   \n",
       "1                1                 0                 0              0   \n",
       "2                1                 0                 0              0   \n",
       "3                1                 1                 0              0   \n",
       "4                1                 0                 0              0   \n",
       "\n",
       "  direction_opp  Y  \n",
       "0             1  1  \n",
       "1             1  0  \n",
       "2             1  1  \n",
       "3             1  0  \n",
       "4             1  0  \n",
       "\n",
       "[5 rows x 25 columns]"
      ]
     },
     "execution_count": 7,
     "metadata": {},
     "output_type": "execute_result"
    }
   ],
   "source": [
    "df = pd.read_csv('in-vehicle-coupon-recommendation.CSV')\n",
    "df[:5]"
   ]
  },
  {
   "cell_type": "code",
   "execution_count": 8,
   "metadata": {
    "slideshow": {
     "slide_type": "slide"
    }
   },
   "outputs": [
    {
     "data": {
      "text/html": [
       "<div>\n",
       "<style scoped>\n",
       "    .dataframe tbody tr th:only-of-type {\n",
       "        vertical-align: middle;\n",
       "    }\n",
       "\n",
       "    .dataframe tbody tr th {\n",
       "        vertical-align: top;\n",
       "    }\n",
       "\n",
       "    .dataframe thead th {\n",
       "        text-align: right;\n",
       "    }\n",
       "</style>\n",
       "<table border=\"1\" class=\"dataframe\">\n",
       "  <thead>\n",
       "    <tr style=\"text-align: right;\">\n",
       "      <th></th>\n",
       "      <th>temperature</th>\n",
       "      <th>has_children</th>\n",
       "      <th>toCoupon_GEQ5min</th>\n",
       "      <th>toCoupon_GEQ15min</th>\n",
       "      <th>toCoupon_GEQ25min</th>\n",
       "      <th>direction_same</th>\n",
       "      <th>direction_opp</th>\n",
       "      <th>Y</th>\n",
       "    </tr>\n",
       "  </thead>\n",
       "  <tbody>\n",
       "    <tr>\n",
       "      <th>count</th>\n",
       "      <td>12079.000000</td>\n",
       "      <td>12079.000000</td>\n",
       "      <td>12079.0</td>\n",
       "      <td>12079.000000</td>\n",
       "      <td>12079.000000</td>\n",
       "      <td>12079.000000</td>\n",
       "      <td>12079.000000</td>\n",
       "      <td>12079.000000</td>\n",
       "    </tr>\n",
       "    <tr>\n",
       "      <th>mean</th>\n",
       "      <td>63.334713</td>\n",
       "      <td>0.408478</td>\n",
       "      <td>1.0</td>\n",
       "      <td>0.561222</td>\n",
       "      <td>0.119381</td>\n",
       "      <td>0.215167</td>\n",
       "      <td>0.784833</td>\n",
       "      <td>0.569335</td>\n",
       "    </tr>\n",
       "    <tr>\n",
       "      <th>std</th>\n",
       "      <td>19.133246</td>\n",
       "      <td>0.491573</td>\n",
       "      <td>0.0</td>\n",
       "      <td>0.496258</td>\n",
       "      <td>0.324249</td>\n",
       "      <td>0.410955</td>\n",
       "      <td>0.410955</td>\n",
       "      <td>0.495190</td>\n",
       "    </tr>\n",
       "    <tr>\n",
       "      <th>min</th>\n",
       "      <td>30.000000</td>\n",
       "      <td>0.000000</td>\n",
       "      <td>1.0</td>\n",
       "      <td>0.000000</td>\n",
       "      <td>0.000000</td>\n",
       "      <td>0.000000</td>\n",
       "      <td>0.000000</td>\n",
       "      <td>0.000000</td>\n",
       "    </tr>\n",
       "    <tr>\n",
       "      <th>25%</th>\n",
       "      <td>55.000000</td>\n",
       "      <td>0.000000</td>\n",
       "      <td>1.0</td>\n",
       "      <td>0.000000</td>\n",
       "      <td>0.000000</td>\n",
       "      <td>0.000000</td>\n",
       "      <td>1.000000</td>\n",
       "      <td>0.000000</td>\n",
       "    </tr>\n",
       "    <tr>\n",
       "      <th>50%</th>\n",
       "      <td>80.000000</td>\n",
       "      <td>0.000000</td>\n",
       "      <td>1.0</td>\n",
       "      <td>1.000000</td>\n",
       "      <td>0.000000</td>\n",
       "      <td>0.000000</td>\n",
       "      <td>1.000000</td>\n",
       "      <td>1.000000</td>\n",
       "    </tr>\n",
       "    <tr>\n",
       "      <th>75%</th>\n",
       "      <td>80.000000</td>\n",
       "      <td>1.000000</td>\n",
       "      <td>1.0</td>\n",
       "      <td>1.000000</td>\n",
       "      <td>0.000000</td>\n",
       "      <td>0.000000</td>\n",
       "      <td>1.000000</td>\n",
       "      <td>1.000000</td>\n",
       "    </tr>\n",
       "    <tr>\n",
       "      <th>max</th>\n",
       "      <td>80.000000</td>\n",
       "      <td>1.000000</td>\n",
       "      <td>1.0</td>\n",
       "      <td>1.000000</td>\n",
       "      <td>1.000000</td>\n",
       "      <td>1.000000</td>\n",
       "      <td>1.000000</td>\n",
       "      <td>1.000000</td>\n",
       "    </tr>\n",
       "  </tbody>\n",
       "</table>\n",
       "</div>"
      ],
      "text/plain": [
       "        temperature  has_children  toCoupon_GEQ5min  toCoupon_GEQ15min  \\\n",
       "count  12079.000000  12079.000000           12079.0       12079.000000   \n",
       "mean      63.334713      0.408478               1.0           0.561222   \n",
       "std       19.133246      0.491573               0.0           0.496258   \n",
       "min       30.000000      0.000000               1.0           0.000000   \n",
       "25%       55.000000      0.000000               1.0           0.000000   \n",
       "50%       80.000000      0.000000               1.0           1.000000   \n",
       "75%       80.000000      1.000000               1.0           1.000000   \n",
       "max       80.000000      1.000000               1.0           1.000000   \n",
       "\n",
       "       toCoupon_GEQ25min  direction_same  direction_opp             Y  \n",
       "count       12079.000000    12079.000000   12079.000000  12079.000000  \n",
       "mean            0.119381        0.215167       0.784833      0.569335  \n",
       "std             0.324249        0.410955       0.410955      0.495190  \n",
       "min             0.000000        0.000000       0.000000      0.000000  \n",
       "25%             0.000000        0.000000       1.000000      0.000000  \n",
       "50%             0.000000        0.000000       1.000000      1.000000  \n",
       "75%             0.000000        0.000000       1.000000      1.000000  \n",
       "max             1.000000        1.000000       1.000000      1.000000  "
      ]
     },
     "execution_count": 8,
     "metadata": {},
     "output_type": "execute_result"
    }
   ],
   "source": [
    "df.describe()"
   ]
  },
  {
   "cell_type": "markdown",
   "metadata": {
    "slideshow": {
     "slide_type": "slide"
    }
   },
   "source": [
    "#### Create the target"
   ]
  },
  {
   "cell_type": "code",
   "execution_count": 9,
   "metadata": {},
   "outputs": [],
   "source": [
    "df['target'] = df['Y']"
   ]
  },
  {
   "cell_type": "code",
   "execution_count": 10,
   "metadata": {},
   "outputs": [
    {
     "data": {
      "text/plain": [
       "1    6877\n",
       "0    5202\n",
       "Name: target, dtype: int64"
      ]
     },
     "execution_count": 10,
     "metadata": {},
     "output_type": "execute_result"
    }
   ],
   "source": [
    "df['target'].value_counts()"
   ]
  },
  {
   "cell_type": "code",
   "execution_count": 11,
   "metadata": {
    "slideshow": {
     "slide_type": "fragment"
    }
   },
   "outputs": [
    {
     "data": {
      "text/plain": [
       "12079"
      ]
     },
     "execution_count": 11,
     "metadata": {},
     "output_type": "execute_result"
    }
   ],
   "source": [
    "len(df)"
   ]
  },
  {
   "cell_type": "markdown",
   "metadata": {
    "slideshow": {
     "slide_type": "slide"
    }
   },
   "source": [
    "#### Create the design matrices"
   ]
  },
  {
   "cell_type": "code",
   "execution_count": 12,
   "metadata": {},
   "outputs": [
    {
     "name": "stdout",
     "output_type": "stream",
     "text": [
      "['destination' 'passanger' 'weather' 'temperature' 'time' 'coupon'\n",
      " 'expiration' 'gender' 'age' 'maritalStatus' 'has_children' 'education'\n",
      " 'occupation' 'income' 'Bar' 'CoffeeHouse' 'CarryAway'\n",
      " 'RestaurantLessThan20' 'Restaurant20To50' 'toCoupon_GEQ5min'\n",
      " 'toCoupon_GEQ15min' 'toCoupon_GEQ25min' 'direction_same' 'direction_opp'\n",
      " 'Y' 'target']\n"
     ]
    }
   ],
   "source": [
    "print(df.columns.values)"
   ]
  },
  {
   "cell_type": "markdown",
   "metadata": {
    "slideshow": {
     "slide_type": "fragment"
    }
   },
   "source": [
    "For Naive Bayes, we want all dummy variables, but unfortunately standard patsy doesn't necessarily give us that. So, just for the Naive Bayes classifier, we will use a pandas-specific way of dummy encoding."
   ]
  },
  {
   "cell_type": "code",
   "execution_count": 13,
   "metadata": {
    "slideshow": {
     "slide_type": "slide"
    }
   },
   "outputs": [],
   "source": [
    "# Make a list of all our categorical variables\n",
    "categorical_columns = ['destination', 'passanger', 'weather', 'temperature', 'time', 'coupon',\n",
    " 'expiration', 'gender', 'age', 'maritalStatus', 'has_children', 'education',\n",
    " 'occupation', 'income', 'Bar', 'CoffeeHouse', 'CarryAway',\n",
    " 'RestaurantLessThan20', 'Restaurant20To50', 'toCoupon_GEQ5min',\n",
    " 'toCoupon_GEQ15min', 'toCoupon_GEQ25min', 'direction_same', 'direction_opp']"
   ]
  },
  {
   "cell_type": "code",
   "execution_count": 14,
   "metadata": {
    "slideshow": {
     "slide_type": "fragment"
    }
   },
   "outputs": [
    {
     "data": {
      "text/plain": [
       "array(['destination_Home', 'destination_No Urgent Place',\n",
       "       'destination_Work', 'passanger_Alone', 'passanger_Friend(s)',\n",
       "       'passanger_Kid(s)', 'passanger_Partner', 'weather_Rainy',\n",
       "       'weather_Snowy', 'weather_Sunny'], dtype=object)"
      ]
     },
     "execution_count": 14,
     "metadata": {},
     "output_type": "execute_result"
    }
   ],
   "source": [
    "# Use pandas to create dummy variables\n",
    "df_dummies = pd.get_dummies(df[categorical_columns],\n",
    "                            prefix=categorical_columns,\n",
    "                            columns=categorical_columns)\n",
    "dummy_column_names = df_dummies.columns.values\n",
    "dummy_column_names[:10]"
   ]
  },
  {
   "cell_type": "code",
   "execution_count": 15,
   "metadata": {
    "slideshow": {
     "slide_type": "fragment"
    }
   },
   "outputs": [],
   "source": [
    "# Concatenate all these new dummy columns into the old dataframe\n",
    "df2 = pd.concat([df, df_dummies], axis=1)"
   ]
  },
  {
   "cell_type": "code",
   "execution_count": 16,
   "metadata": {
    "slideshow": {
     "slide_type": "fragment"
    }
   },
   "outputs": [
    {
     "name": "stdout",
     "output_type": "stream",
     "text": [
      "target ~ 0 + Q(\"destination_Home\") + Q(\"destination_No Urgent Place\") + Q(\"destination_Work\") + Q(\"passanger_Alone\") + Q(\"passanger_Friend(s)\") + Q(\"passanger_Kid(s)\") + Q(\"passanger_Partner\") + Q(\"weather_Rainy\") + Q(\"weather_Snowy\") + Q(\"weather_Sunny\") + Q(\"temperature_30\") + Q(\"temperature_55\") + Q(\"temperature_80\") + Q(\"time_10AM\") + Q(\"time_10PM\") + Q(\"time_2PM\") + Q(\"time_6PM\") + Q(\"time_7AM\") + Q(\"coupon_Bar\") + Q(\"coupon_Carry out & Take away\") + Q(\"coupon_Coffee House\") + Q(\"coupon_Restaurant(20-50)\") + Q(\"coupon_Restaurant(<20)\") + Q(\"expiration_1d\") + Q(\"expiration_2h\") + Q(\"gender_Female\") + Q(\"gender_Male\") + Q(\"age_21\") + Q(\"age_26\") + Q(\"age_31\") + Q(\"age_36\") + Q(\"age_41\") + Q(\"age_46\") + Q(\"age_50plus\") + Q(\"age_below21\") + Q(\"maritalStatus_Divorced\") + Q(\"maritalStatus_Married partner\") + Q(\"maritalStatus_Single\") + Q(\"maritalStatus_Unmarried partner\") + Q(\"maritalStatus_Widowed\") + Q(\"has_children_0\") + Q(\"has_children_1\") + Q(\"education_Associates degree\") + Q(\"education_Bachelors degree\") + Q(\"education_Graduate degree (Masters or Doctorate)\") + Q(\"education_High School Graduate\") + Q(\"education_Some High School\") + Q(\"education_Some college - no degree\") + Q(\"occupation_Architecture & Engineering\") + Q(\"occupation_Arts Design Entertainment Sports & Media\") + Q(\"occupation_Building & Grounds Cleaning & Maintenance\") + Q(\"occupation_Business & Financial\") + Q(\"occupation_Community & Social Services\") + Q(\"occupation_Computer & Mathematical\") + Q(\"occupation_Construction & Extraction\") + Q(\"occupation_Education&Training&Library\") + Q(\"occupation_Farming Fishing & Forestry\") + Q(\"occupation_Food Preparation & Serving Related\") + Q(\"occupation_Healthcare Practitioners & Technical\") + Q(\"occupation_Healthcare Support\") + Q(\"occupation_Installation Maintenance & Repair\") + Q(\"occupation_Legal\") + Q(\"occupation_Life Physical Social Science\") + Q(\"occupation_Management\") + Q(\"occupation_Office & Administrative Support\") + Q(\"occupation_Personal Care & Service\") + Q(\"occupation_Production Occupations\") + Q(\"occupation_Protective Service\") + Q(\"occupation_Retired\") + Q(\"occupation_Sales & Related\") + Q(\"occupation_Student\") + Q(\"occupation_Transportation & Material Moving\") + Q(\"occupation_Unemployed\") + Q(\"income_$100000 or More\") + Q(\"income_$12500 - $24999\") + Q(\"income_$25000 - $37499\") + Q(\"income_$37500 - $49999\") + Q(\"income_$50000 - $62499\") + Q(\"income_$62500 - $74999\") + Q(\"income_$75000 - $87499\") + Q(\"income_$87500 - $99999\") + Q(\"income_Less than $12500\") + Q(\"Bar_1~3\") + Q(\"Bar_4~8\") + Q(\"Bar_gt8\") + Q(\"Bar_less1\") + Q(\"Bar_never\") + Q(\"CoffeeHouse_1~3\") + Q(\"CoffeeHouse_4~8\") + Q(\"CoffeeHouse_gt8\") + Q(\"CoffeeHouse_less1\") + Q(\"CoffeeHouse_never\") + Q(\"CarryAway_1~3\") + Q(\"CarryAway_4~8\") + Q(\"CarryAway_gt8\") + Q(\"CarryAway_less1\") + Q(\"CarryAway_never\") + Q(\"RestaurantLessThan20_1~3\") + Q(\"RestaurantLessThan20_4~8\") + Q(\"RestaurantLessThan20_gt8\") + Q(\"RestaurantLessThan20_less1\") + Q(\"RestaurantLessThan20_never\") + Q(\"Restaurant20To50_1~3\") + Q(\"Restaurant20To50_4~8\") + Q(\"Restaurant20To50_gt8\") + Q(\"Restaurant20To50_less1\") + Q(\"Restaurant20To50_never\") + Q(\"toCoupon_GEQ5min_1\") + Q(\"toCoupon_GEQ15min_0\") + Q(\"toCoupon_GEQ15min_1\") + Q(\"toCoupon_GEQ25min_0\") + Q(\"toCoupon_GEQ25min_1\") + Q(\"direction_same_0\") + Q(\"direction_same_1\") + Q(\"direction_opp_0\") + Q(\"direction_opp_1\")\n"
     ]
    }
   ],
   "source": [
    "formula = 'target ~ 0 + {}'.format(' + '.join(['Q(\"{}\")'.format(x)\\\n",
    "                                               for x in dummy_column_names]))\n",
    "print(formula)"
   ]
  },
  {
   "cell_type": "code",
   "execution_count": 17,
   "metadata": {
    "slideshow": {
     "slide_type": "slide"
    }
   },
   "outputs": [],
   "source": [
    "Y, X = dmatrices(formula, df2, return_type='dataframe')\n",
    "y = Y['target'].values"
   ]
  },
  {
   "cell_type": "markdown",
   "metadata": {
    "slideshow": {
     "slide_type": "-"
    }
   },
   "source": [
    "#### Set up the classifier"
   ]
  },
  {
   "cell_type": "code",
   "execution_count": 18,
   "metadata": {},
   "outputs": [],
   "source": [
    "from sklearn import naive_bayes\n",
    "model = naive_bayes.MultinomialNB()"
   ]
  },
  {
   "cell_type": "markdown",
   "metadata": {
    "slideshow": {
     "slide_type": "fragment"
    }
   },
   "source": [
    "#### Fit the model"
   ]
  },
  {
   "cell_type": "code",
   "execution_count": 19,
   "metadata": {
    "slideshow": {
     "slide_type": "fragment"
    }
   },
   "outputs": [
    {
     "data": {
      "text/html": [
       "<style>#sk-container-id-1 {color: black;background-color: white;}#sk-container-id-1 pre{padding: 0;}#sk-container-id-1 div.sk-toggleable {background-color: white;}#sk-container-id-1 label.sk-toggleable__label {cursor: pointer;display: block;width: 100%;margin-bottom: 0;padding: 0.3em;box-sizing: border-box;text-align: center;}#sk-container-id-1 label.sk-toggleable__label-arrow:before {content: \"▸\";float: left;margin-right: 0.25em;color: #696969;}#sk-container-id-1 label.sk-toggleable__label-arrow:hover:before {color: black;}#sk-container-id-1 div.sk-estimator:hover label.sk-toggleable__label-arrow:before {color: black;}#sk-container-id-1 div.sk-toggleable__content {max-height: 0;max-width: 0;overflow: hidden;text-align: left;background-color: #f0f8ff;}#sk-container-id-1 div.sk-toggleable__content pre {margin: 0.2em;color: black;border-radius: 0.25em;background-color: #f0f8ff;}#sk-container-id-1 input.sk-toggleable__control:checked~div.sk-toggleable__content {max-height: 200px;max-width: 100%;overflow: auto;}#sk-container-id-1 input.sk-toggleable__control:checked~label.sk-toggleable__label-arrow:before {content: \"▾\";}#sk-container-id-1 div.sk-estimator input.sk-toggleable__control:checked~label.sk-toggleable__label {background-color: #d4ebff;}#sk-container-id-1 div.sk-label input.sk-toggleable__control:checked~label.sk-toggleable__label {background-color: #d4ebff;}#sk-container-id-1 input.sk-hidden--visually {border: 0;clip: rect(1px 1px 1px 1px);clip: rect(1px, 1px, 1px, 1px);height: 1px;margin: -1px;overflow: hidden;padding: 0;position: absolute;width: 1px;}#sk-container-id-1 div.sk-estimator {font-family: monospace;background-color: #f0f8ff;border: 1px dotted black;border-radius: 0.25em;box-sizing: border-box;margin-bottom: 0.5em;}#sk-container-id-1 div.sk-estimator:hover {background-color: #d4ebff;}#sk-container-id-1 div.sk-parallel-item::after {content: \"\";width: 100%;border-bottom: 1px solid gray;flex-grow: 1;}#sk-container-id-1 div.sk-label:hover label.sk-toggleable__label {background-color: #d4ebff;}#sk-container-id-1 div.sk-serial::before {content: \"\";position: absolute;border-left: 1px solid gray;box-sizing: border-box;top: 0;bottom: 0;left: 50%;z-index: 0;}#sk-container-id-1 div.sk-serial {display: flex;flex-direction: column;align-items: center;background-color: white;padding-right: 0.2em;padding-left: 0.2em;position: relative;}#sk-container-id-1 div.sk-item {position: relative;z-index: 1;}#sk-container-id-1 div.sk-parallel {display: flex;align-items: stretch;justify-content: center;background-color: white;position: relative;}#sk-container-id-1 div.sk-item::before, #sk-container-id-1 div.sk-parallel-item::before {content: \"\";position: absolute;border-left: 1px solid gray;box-sizing: border-box;top: 0;bottom: 0;left: 50%;z-index: -1;}#sk-container-id-1 div.sk-parallel-item {display: flex;flex-direction: column;z-index: 1;position: relative;background-color: white;}#sk-container-id-1 div.sk-parallel-item:first-child::after {align-self: flex-end;width: 50%;}#sk-container-id-1 div.sk-parallel-item:last-child::after {align-self: flex-start;width: 50%;}#sk-container-id-1 div.sk-parallel-item:only-child::after {width: 0;}#sk-container-id-1 div.sk-dashed-wrapped {border: 1px dashed gray;margin: 0 0.4em 0.5em 0.4em;box-sizing: border-box;padding-bottom: 0.4em;background-color: white;}#sk-container-id-1 div.sk-label label {font-family: monospace;font-weight: bold;display: inline-block;line-height: 1.2em;}#sk-container-id-1 div.sk-label-container {text-align: center;}#sk-container-id-1 div.sk-container {/* jupyter's `normalize.less` sets `[hidden] { display: none; }` but bootstrap.min.css set `[hidden] { display: none !important; }` so we also need the `!important` here to be able to override the default hidden behavior on the sphinx rendered scikit-learn.org. See: https://github.com/scikit-learn/scikit-learn/issues/21755 */display: inline-block !important;position: relative;}#sk-container-id-1 div.sk-text-repr-fallback {display: none;}</style><div id=\"sk-container-id-1\" class=\"sk-top-container\"><div class=\"sk-text-repr-fallback\"><pre>MultinomialNB()</pre><b>In a Jupyter environment, please rerun this cell to show the HTML representation or trust the notebook. <br />On GitHub, the HTML representation is unable to render, please try loading this page with nbviewer.org.</b></div><div class=\"sk-container\" hidden><div class=\"sk-item\"><div class=\"sk-estimator sk-toggleable\"><input class=\"sk-toggleable__control sk-hidden--visually\" id=\"sk-estimator-id-1\" type=\"checkbox\" checked><label for=\"sk-estimator-id-1\" class=\"sk-toggleable__label sk-toggleable__label-arrow\">MultinomialNB</label><div class=\"sk-toggleable__content\"><pre>MultinomialNB()</pre></div></div></div></div></div>"
      ],
      "text/plain": [
       "MultinomialNB()"
      ]
     },
     "execution_count": 19,
     "metadata": {},
     "output_type": "execute_result"
    }
   ],
   "source": [
    "model.fit(X, y)"
   ]
  },
  {
   "cell_type": "markdown",
   "metadata": {
    "slideshow": {
     "slide_type": "slide"
    }
   },
   "source": [
    "#### Test on some training data"
   ]
  },
  {
   "cell_type": "code",
   "execution_count": 21,
   "metadata": {},
   "outputs": [
    {
     "name": "stdout",
     "output_type": "stream",
     "text": [
      "Prediction\n",
      "[1. 1. 1. 1. 1. 1. 1. 1. 1. 1.]\n",
      "Actual\n",
      "[1. 0. 1. 0. 0. 0. 0. 1. 0. 1.]\n"
     ]
    }
   ],
   "source": [
    "print('Prediction')\n",
    "print(model.predict(X[:10]))\n",
    "print('Actual')\n",
    "print(y[:10])"
   ]
  },
  {
   "cell_type": "code",
   "execution_count": 22,
   "metadata": {
    "slideshow": {
     "slide_type": "fragment"
    }
   },
   "outputs": [
    {
     "name": "stdout",
     "output_type": "stream",
     "text": [
      "0.6679360874244556\n"
     ]
    }
   ],
   "source": [
    "from sklearn import metrics\n",
    "\n",
    "prediction_train = model.predict(X)\n",
    "print(metrics.accuracy_score(y, prediction_train))"
   ]
  },
  {
   "cell_type": "markdown",
   "metadata": {
    "slideshow": {
     "slide_type": "slide"
    }
   },
   "source": [
    "#### Class priors"
   ]
  },
  {
   "cell_type": "markdown",
   "metadata": {},
   "source": [
    "* Class priors are encoded in the `model` variable, after fitting the model to the training data. \n",
    "* The priors are available from `model.class_log_prior_`\n",
    "    * This is not the fraction of each class in the training data, but rather\n",
    "    * the _logarithm_ of that."
   ]
  },
  {
   "cell_type": "code",
   "execution_count": 23,
   "metadata": {
    "slideshow": {
     "slide_type": "fragment"
    }
   },
   "outputs": [
    {
     "name": "stdout",
     "output_type": "stream",
     "text": [
      "Prior probability for the negative class is\n",
      "0.4306647901316337\n",
      "Prior probability for the positive class is\n",
      "0.5693352098683663\n"
     ]
    }
   ],
   "source": [
    "print('Prior probability for the negative class is',)\n",
    "print(exp(model.class_log_prior_[0]))\n",
    "print('Prior probability for the positive class is',)\n",
    "print(exp(model.class_log_prior_[1]))"
   ]
  },
  {
   "cell_type": "markdown",
   "metadata": {
    "slideshow": {
     "slide_type": "slide"
    }
   },
   "source": [
    "#### What are the likelihoods?"
   ]
  },
  {
   "cell_type": "markdown",
   "metadata": {
    "slideshow": {
     "slide_type": "fragment"
    }
   },
   "source": [
    "There is a special attribute called `model.feature_log_prob_` that is available after fitting the training data."
   ]
  },
  {
   "cell_type": "code",
   "execution_count": 24,
   "metadata": {
    "slideshow": {
     "slide_type": "fragment"
    }
   },
   "outputs": [
    {
     "data": {
      "text/plain": [
       "array([-4.65650045, -3.77562887, -4.68494451, -3.80565793, -4.35081694])"
      ]
     },
     "execution_count": 24,
     "metadata": {},
     "output_type": "execute_result"
    }
   ],
   "source": [
    "# Log of the likelihoods for class 1 (positive class) for the first 5 features\n",
    "model.feature_log_prob_[1][:5]"
   ]
  },
  {
   "cell_type": "code",
   "execution_count": 25,
   "metadata": {
    "slideshow": {
     "slide_type": "fragment"
    }
   },
   "outputs": [
    {
     "data": {
      "text/html": [
       "<div>\n",
       "<style scoped>\n",
       "    .dataframe tbody tr th:only-of-type {\n",
       "        vertical-align: middle;\n",
       "    }\n",
       "\n",
       "    .dataframe tbody tr th {\n",
       "        vertical-align: top;\n",
       "    }\n",
       "\n",
       "    .dataframe thead th {\n",
       "        text-align: right;\n",
       "    }\n",
       "</style>\n",
       "<table border=\"1\" class=\"dataframe\">\n",
       "  <thead>\n",
       "    <tr style=\"text-align: right;\">\n",
       "      <th></th>\n",
       "      <th>Positive class</th>\n",
       "      <th>Negative class</th>\n",
       "    </tr>\n",
       "  </thead>\n",
       "  <tbody>\n",
       "    <tr>\n",
       "      <th>Q(\"destination_Home\")</th>\n",
       "      <td>0.009500</td>\n",
       "      <td>0.012147</td>\n",
       "    </tr>\n",
       "    <tr>\n",
       "      <th>Q(\"destination_No Urgent Place\")</th>\n",
       "      <td>0.022923</td>\n",
       "      <td>0.017493</td>\n",
       "    </tr>\n",
       "    <tr>\n",
       "      <th>Q(\"destination_Work\")</th>\n",
       "      <td>0.009233</td>\n",
       "      <td>0.012011</td>\n",
       "    </tr>\n",
       "    <tr>\n",
       "      <th>Q(\"passanger_Alone\")</th>\n",
       "      <td>0.022245</td>\n",
       "      <td>0.026384</td>\n",
       "    </tr>\n",
       "    <tr>\n",
       "      <th>Q(\"passanger_Friend(s)\")</th>\n",
       "      <td>0.012896</td>\n",
       "      <td>0.008162</td>\n",
       "    </tr>\n",
       "  </tbody>\n",
       "</table>\n",
       "</div>"
      ],
      "text/plain": [
       "                                  Positive class  Negative class\n",
       "Q(\"destination_Home\")                   0.009500        0.012147\n",
       "Q(\"destination_No Urgent Place\")        0.022923        0.017493\n",
       "Q(\"destination_Work\")                   0.009233        0.012011\n",
       "Q(\"passanger_Alone\")                    0.022245        0.026384\n",
       "Q(\"passanger_Friend(s)\")                0.012896        0.008162"
      ]
     },
     "execution_count": 25,
     "metadata": {},
     "output_type": "execute_result"
    }
   ],
   "source": [
    "feature_stats = DataFrame({'Positive class':np.exp(model.feature_log_prob_[1]),\n",
    "                           'Negative class':np.exp(model.feature_log_prob_[0])},\n",
    "                           index=X.columns.values) # <-- feature names\n",
    "feature_stats[:5]"
   ]
  },
  {
   "cell_type": "markdown",
   "metadata": {
    "slideshow": {
     "slide_type": "slide"
    }
   },
   "source": [
    "#### Which features are most important?"
   ]
  },
  {
   "cell_type": "markdown",
   "metadata": {},
   "source": [
    "A feature is important (i.e. very **discriminative**) if it is very _likely_ in one class but very _unlikely_ in the other."
   ]
  },
  {
   "cell_type": "markdown",
   "metadata": {
    "slideshow": {
     "slide_type": "fragment"
    }
   },
   "source": [
    "Look at the ratio of $$P(\\mbox{feature in positive class})$$ to $$P(\\mbox{feature in negative class})$$"
   ]
  },
  {
   "cell_type": "markdown",
   "metadata": {
    "slideshow": {
     "slide_type": "fragment"
    }
   },
   "source": [
    "$$\\mbox{If Ratio } \\gg 1 \\Rightarrow \\mbox{presence of feature implies positive class}$$"
   ]
  },
  {
   "cell_type": "markdown",
   "metadata": {
    "slideshow": {
     "slide_type": "fragment"
    }
   },
   "source": [
    "$$\\mbox{If Ratio } \\ll 1 \\Rightarrow \\mbox{presence of feature implies negative class}$$"
   ]
  },
  {
   "cell_type": "code",
   "execution_count": 26,
   "metadata": {
    "slideshow": {
     "slide_type": "slide"
    }
   },
   "outputs": [
    {
     "data": {
      "text/html": [
       "<div>\n",
       "<style scoped>\n",
       "    .dataframe tbody tr th:only-of-type {\n",
       "        vertical-align: middle;\n",
       "    }\n",
       "\n",
       "    .dataframe tbody tr th {\n",
       "        vertical-align: top;\n",
       "    }\n",
       "\n",
       "    .dataframe thead th {\n",
       "        text-align: right;\n",
       "    }\n",
       "</style>\n",
       "<table border=\"1\" class=\"dataframe\">\n",
       "  <thead>\n",
       "    <tr style=\"text-align: right;\">\n",
       "      <th></th>\n",
       "      <th>Positive class</th>\n",
       "      <th>Negative class</th>\n",
       "      <th>Positive/Negative Ratio</th>\n",
       "    </tr>\n",
       "  </thead>\n",
       "  <tbody>\n",
       "    <tr>\n",
       "      <th>Q(\"destination_Home\")</th>\n",
       "      <td>0.009500</td>\n",
       "      <td>0.012147</td>\n",
       "      <td>0.782025</td>\n",
       "    </tr>\n",
       "    <tr>\n",
       "      <th>Q(\"destination_No Urgent Place\")</th>\n",
       "      <td>0.022923</td>\n",
       "      <td>0.017493</td>\n",
       "      <td>1.310388</td>\n",
       "    </tr>\n",
       "    <tr>\n",
       "      <th>Q(\"destination_Work\")</th>\n",
       "      <td>0.009233</td>\n",
       "      <td>0.012011</td>\n",
       "      <td>0.768703</td>\n",
       "    </tr>\n",
       "  </tbody>\n",
       "</table>\n",
       "</div>"
      ],
      "text/plain": [
       "                                  Positive class  Negative class  \\\n",
       "Q(\"destination_Home\")                   0.009500        0.012147   \n",
       "Q(\"destination_No Urgent Place\")        0.022923        0.017493   \n",
       "Q(\"destination_Work\")                   0.009233        0.012011   \n",
       "\n",
       "                                  Positive/Negative Ratio  \n",
       "Q(\"destination_Home\")                            0.782025  \n",
       "Q(\"destination_No Urgent Place\")                 1.310388  \n",
       "Q(\"destination_Work\")                            0.768703  "
      ]
     },
     "execution_count": 26,
     "metadata": {},
     "output_type": "execute_result"
    }
   ],
   "source": [
    "feature_stats['Positive/Negative Ratio'] = feature_stats['Positive class']\\\n",
    "                                         / feature_stats['Negative class']\n",
    "feature_stats[:3]"
   ]
  },
  {
   "cell_type": "markdown",
   "metadata": {
    "slideshow": {
     "slide_type": "fragment"
    }
   },
   "source": [
    "$$\\mbox{How can we measure if the ratio is far from 1?}$$."
   ]
  },
  {
   "cell_type": "markdown",
   "metadata": {
    "slideshow": {
     "slide_type": "fragment"
    }
   },
   "source": [
    "$$\\Rightarrow \\log\\left(Ratio\\right) \\mbox{ is very large in magnitude}$$"
   ]
  },
  {
   "cell_type": "code",
   "execution_count": 27,
   "metadata": {
    "slideshow": {
     "slide_type": "fragment"
    }
   },
   "outputs": [
    {
     "data": {
      "text/html": [
       "<div>\n",
       "<style scoped>\n",
       "    .dataframe tbody tr th:only-of-type {\n",
       "        vertical-align: middle;\n",
       "    }\n",
       "\n",
       "    .dataframe tbody tr th {\n",
       "        vertical-align: top;\n",
       "    }\n",
       "\n",
       "    .dataframe thead th {\n",
       "        text-align: right;\n",
       "    }\n",
       "</style>\n",
       "<table border=\"1\" class=\"dataframe\">\n",
       "  <thead>\n",
       "    <tr style=\"text-align: right;\">\n",
       "      <th></th>\n",
       "      <th>Positive class</th>\n",
       "      <th>Negative class</th>\n",
       "      <th>Positive/Negative Ratio</th>\n",
       "      <th>Importance</th>\n",
       "    </tr>\n",
       "  </thead>\n",
       "  <tbody>\n",
       "    <tr>\n",
       "      <th>Q(\"destination_Home\")</th>\n",
       "      <td>0.009500</td>\n",
       "      <td>0.012147</td>\n",
       "      <td>0.782025</td>\n",
       "      <td>0.245868</td>\n",
       "    </tr>\n",
       "    <tr>\n",
       "      <th>Q(\"destination_No Urgent Place\")</th>\n",
       "      <td>0.022923</td>\n",
       "      <td>0.017493</td>\n",
       "      <td>1.310388</td>\n",
       "      <td>0.270323</td>\n",
       "    </tr>\n",
       "    <tr>\n",
       "      <th>Q(\"destination_Work\")</th>\n",
       "      <td>0.009233</td>\n",
       "      <td>0.012011</td>\n",
       "      <td>0.768703</td>\n",
       "      <td>0.263050</td>\n",
       "    </tr>\n",
       "  </tbody>\n",
       "</table>\n",
       "</div>"
      ],
      "text/plain": [
       "                                  Positive class  Negative class  \\\n",
       "Q(\"destination_Home\")                   0.009500        0.012147   \n",
       "Q(\"destination_No Urgent Place\")        0.022923        0.017493   \n",
       "Q(\"destination_Work\")                   0.009233        0.012011   \n",
       "\n",
       "                                  Positive/Negative Ratio  Importance  \n",
       "Q(\"destination_Home\")                            0.782025    0.245868  \n",
       "Q(\"destination_No Urgent Place\")                 1.310388    0.270323  \n",
       "Q(\"destination_Work\")                            0.768703    0.263050  "
      ]
     },
     "execution_count": 27,
     "metadata": {},
     "output_type": "execute_result"
    }
   ],
   "source": [
    "feature_stats['Importance'] = \\\n",
    "    np.abs(np.log(feature_stats['Positive/Negative Ratio']))\n",
    "feature_stats[:3]"
   ]
  },
  {
   "cell_type": "markdown",
   "metadata": {
    "slideshow": {
     "slide_type": "fragment"
    }
   },
   "source": [
    "How can we find the top features?"
   ]
  },
  {
   "cell_type": "code",
   "execution_count": 28,
   "metadata": {
    "slideshow": {
     "slide_type": "slide"
    }
   },
   "outputs": [
    {
     "data": {
      "text/html": [
       "<div>\n",
       "<style scoped>\n",
       "    .dataframe tbody tr th:only-of-type {\n",
       "        vertical-align: middle;\n",
       "    }\n",
       "\n",
       "    .dataframe tbody tr th {\n",
       "        vertical-align: top;\n",
       "    }\n",
       "\n",
       "    .dataframe thead th {\n",
       "        text-align: right;\n",
       "    }\n",
       "</style>\n",
       "<table border=\"1\" class=\"dataframe\">\n",
       "  <thead>\n",
       "    <tr style=\"text-align: right;\">\n",
       "      <th></th>\n",
       "      <th>Positive class</th>\n",
       "      <th>Negative class</th>\n",
       "      <th>Positive/Negative Ratio</th>\n",
       "      <th>Importance</th>\n",
       "    </tr>\n",
       "  </thead>\n",
       "  <tbody>\n",
       "    <tr>\n",
       "      <th>Q(\"coupon_Carry out &amp; Take away\")</th>\n",
       "      <td>0.010190</td>\n",
       "      <td>0.004793</td>\n",
       "      <td>2.125822</td>\n",
       "      <td>0.754158</td>\n",
       "    </tr>\n",
       "    <tr>\n",
       "      <th>Q(\"occupation_Healthcare Practitioners &amp; Technical\")</th>\n",
       "      <td>0.000969</td>\n",
       "      <td>0.000512</td>\n",
       "      <td>1.891514</td>\n",
       "      <td>0.637378</td>\n",
       "    </tr>\n",
       "    <tr>\n",
       "      <th>Q(\"coupon_Bar\")</th>\n",
       "      <td>0.004777</td>\n",
       "      <td>0.009011</td>\n",
       "      <td>0.530161</td>\n",
       "      <td>0.634574</td>\n",
       "    </tr>\n",
       "    <tr>\n",
       "      <th>Q(\"education_Some High School\")</th>\n",
       "      <td>0.000387</td>\n",
       "      <td>0.000208</td>\n",
       "      <td>1.862414</td>\n",
       "      <td>0.621873</td>\n",
       "    </tr>\n",
       "    <tr>\n",
       "      <th>Q(\"coupon_Restaurant(&lt;20)\")</th>\n",
       "      <td>0.011395</td>\n",
       "      <td>0.006186</td>\n",
       "      <td>1.842085</td>\n",
       "      <td>0.610898</td>\n",
       "    </tr>\n",
       "    <tr>\n",
       "      <th>Q(\"occupation_Production Occupations\")</th>\n",
       "      <td>0.000381</td>\n",
       "      <td>0.000216</td>\n",
       "      <td>1.765413</td>\n",
       "      <td>0.568385</td>\n",
       "    </tr>\n",
       "    <tr>\n",
       "      <th>Q(\"occupation_Healthcare Support\")</th>\n",
       "      <td>0.001029</td>\n",
       "      <td>0.000592</td>\n",
       "      <td>1.738148</td>\n",
       "      <td>0.552820</td>\n",
       "    </tr>\n",
       "    <tr>\n",
       "      <th>Q(\"toCoupon_GEQ25min_1\")</th>\n",
       "      <td>0.003796</td>\n",
       "      <td>0.006538</td>\n",
       "      <td>0.580651</td>\n",
       "      <td>0.543606</td>\n",
       "    </tr>\n",
       "    <tr>\n",
       "      <th>Q(\"occupation_Construction &amp; Extraction\")</th>\n",
       "      <td>0.000648</td>\n",
       "      <td>0.000392</td>\n",
       "      <td>1.652179</td>\n",
       "      <td>0.502095</td>\n",
       "    </tr>\n",
       "    <tr>\n",
       "      <th>Q(\"coupon_Restaurant(20-50)\")</th>\n",
       "      <td>0.003833</td>\n",
       "      <td>0.006290</td>\n",
       "      <td>0.609327</td>\n",
       "      <td>0.495400</td>\n",
       "    </tr>\n",
       "  </tbody>\n",
       "</table>\n",
       "</div>"
      ],
      "text/plain": [
       "                                                    Positive class  \\\n",
       "Q(\"coupon_Carry out & Take away\")                         0.010190   \n",
       "Q(\"occupation_Healthcare Practitioners & Techni...        0.000969   \n",
       "Q(\"coupon_Bar\")                                           0.004777   \n",
       "Q(\"education_Some High School\")                           0.000387   \n",
       "Q(\"coupon_Restaurant(<20)\")                               0.011395   \n",
       "Q(\"occupation_Production Occupations\")                    0.000381   \n",
       "Q(\"occupation_Healthcare Support\")                        0.001029   \n",
       "Q(\"toCoupon_GEQ25min_1\")                                  0.003796   \n",
       "Q(\"occupation_Construction & Extraction\")                 0.000648   \n",
       "Q(\"coupon_Restaurant(20-50)\")                             0.003833   \n",
       "\n",
       "                                                    Negative class  \\\n",
       "Q(\"coupon_Carry out & Take away\")                         0.004793   \n",
       "Q(\"occupation_Healthcare Practitioners & Techni...        0.000512   \n",
       "Q(\"coupon_Bar\")                                           0.009011   \n",
       "Q(\"education_Some High School\")                           0.000208   \n",
       "Q(\"coupon_Restaurant(<20)\")                               0.006186   \n",
       "Q(\"occupation_Production Occupations\")                    0.000216   \n",
       "Q(\"occupation_Healthcare Support\")                        0.000592   \n",
       "Q(\"toCoupon_GEQ25min_1\")                                  0.006538   \n",
       "Q(\"occupation_Construction & Extraction\")                 0.000392   \n",
       "Q(\"coupon_Restaurant(20-50)\")                             0.006290   \n",
       "\n",
       "                                                    Positive/Negative Ratio  \\\n",
       "Q(\"coupon_Carry out & Take away\")                                  2.125822   \n",
       "Q(\"occupation_Healthcare Practitioners & Techni...                 1.891514   \n",
       "Q(\"coupon_Bar\")                                                    0.530161   \n",
       "Q(\"education_Some High School\")                                    1.862414   \n",
       "Q(\"coupon_Restaurant(<20)\")                                        1.842085   \n",
       "Q(\"occupation_Production Occupations\")                             1.765413   \n",
       "Q(\"occupation_Healthcare Support\")                                 1.738148   \n",
       "Q(\"toCoupon_GEQ25min_1\")                                           0.580651   \n",
       "Q(\"occupation_Construction & Extraction\")                          1.652179   \n",
       "Q(\"coupon_Restaurant(20-50)\")                                      0.609327   \n",
       "\n",
       "                                                    Importance  \n",
       "Q(\"coupon_Carry out & Take away\")                     0.754158  \n",
       "Q(\"occupation_Healthcare Practitioners & Techni...    0.637378  \n",
       "Q(\"coupon_Bar\")                                       0.634574  \n",
       "Q(\"education_Some High School\")                       0.621873  \n",
       "Q(\"coupon_Restaurant(<20)\")                           0.610898  \n",
       "Q(\"occupation_Production Occupations\")                0.568385  \n",
       "Q(\"occupation_Healthcare Support\")                    0.552820  \n",
       "Q(\"toCoupon_GEQ25min_1\")                              0.543606  \n",
       "Q(\"occupation_Construction & Extraction\")             0.502095  \n",
       "Q(\"coupon_Restaurant(20-50)\")                         0.495400  "
      ]
     },
     "execution_count": 28,
     "metadata": {},
     "output_type": "execute_result"
    }
   ],
   "source": [
    "feature_stats.sort_values(by='Importance', ascending=False)[:10]"
   ]
  },
  {
   "cell_type": "markdown",
   "metadata": {
    "slideshow": {
     "slide_type": "fragment"
    }
   },
   "source": [
    "$$\\mbox{If Ratio } \\gg 1 \\Rightarrow \\mbox{presence of feature implies positive class}$$\n",
    "\n",
    "* So \"education_Doctorate\" and \"education_Prof-school\" are markers of positive class (i.e., >=50K salary)"
   ]
  }
 ],
 "metadata": {
  "celltoolbar": "Slideshow",
  "kernelspec": {
   "display_name": "Python 3 (ipykernel)",
   "language": "python",
   "name": "python3"
  },
  "language_info": {
   "codemirror_mode": {
    "name": "ipython",
    "version": 3
   },
   "file_extension": ".py",
   "mimetype": "text/x-python",
   "name": "python",
   "nbconvert_exporter": "python",
   "pygments_lexer": "ipython3",
   "version": "3.10.9"
  }
 },
 "nbformat": 4,
 "nbformat_minor": 1
}
